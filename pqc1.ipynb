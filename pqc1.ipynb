{
 "cells": [
  {
   "cell_type": "markdown",
   "id": "c711b2c6",
   "metadata": {},
   "source": [
    "# Quantum Binary Classifier using Parameterized Quantum Circuits (PQC)\n",
    "\n",
    "This notebook implements a quantum binary classifier using Parameterized Quantum Circuits (PQC) with Qiskit."
   ]
  },
  {
   "cell_type": "markdown",
   "id": "aa3c76f5",
   "metadata": {},
   "source": [
    "## 1. Setup and Imports"
   ]
  },
  {
   "cell_type": "code",
   "execution_count": 40,
   "id": "7b909ea0",
   "metadata": {},
   "outputs": [],
   "source": [
    "# Import required libraries\n",
    "import numpy as np\n",
    "from sklearn.model_selection import train_test_split\n",
    "from sklearn.datasets import make_moons\n",
    "\n",
    "from qiskit import QuantumCircuit, transpile\n",
    "from qiskit.circuit import Parameter, ParameterVector\n",
    "from qiskit.circuit.library import ZZFeatureMap, RealAmplitudes\n",
    "from qiskit_algorithms.optimizers import COBYLA, SPSA\n",
    "from qiskit_algorithms.utils import algorithm_globals\n",
    "from qiskit.primitives import Sampler, Estimator\n",
    "\n",
    "# Set random seeds\n",
    "seed = 12345\n",
    "algorithm_globals.random_seed = seed\n",
    "np.random.seed(seed)"
   ]
  },
  {
   "cell_type": "markdown",
   "id": "4d0a6471",
   "metadata": {},
   "source": [
    "## 2. Data Preparation"
   ]
  },
  {
   "cell_type": "code",
   "execution_count": 41,
   "id": "5c658ab9",
   "metadata": {},
   "outputs": [],
   "source": [
    "# Generate and prepare dataset\n",
    "X, y = make_moons(n_samples=100, noise=0.2, random_state=seed)\n",
    "\n",
    "# Scale features to be between 0 and pi\n",
    "X_scaled = (X - X.min(axis=0)) / (X.max(axis=0) - X.min(axis=0)) * np.pi\n",
    "\n",
    "# Split data\n",
    "X_train, X_test, y_train, y_test = train_test_split(\n",
    "    X_scaled, y, test_size=0.3, random_state=seed\n",
    ")\n",
    "\n",
    "num_features = X_train.shape[1]"
   ]
  },
  {
   "cell_type": "markdown",
   "id": "dd0b70ea",
   "metadata": {},
   "source": [
    "## 3. Quantum Circuit Components and Visualization"
   ]
  },
  {
   "cell_type": "code",
   "execution_count": 42,
   "id": "6fb6f979",
   "metadata": {},
   "outputs": [],
   "source": [
    "# Feature Map: Encodes classical data into quantum states\n",
    "feature_map = ZZFeatureMap(feature_dimension=num_features, reps=1, entanglement='linear')\n",
    "\n",
    "# Ansatz: The trainable part of the PQC\n",
    "ansatz = RealAmplitudes(num_qubits=num_features, reps=3, entanglement='linear')\n",
    "\n",
    "# Combine feature map and ansatz\n",
    "pqc = QuantumCircuit(num_features)\n",
    "pqc.compose(feature_map, inplace=True)\n",
    "pqc.compose(ansatz, inplace=True)"
   ]
  },
  {
   "cell_type": "markdown",
   "id": "8ccd5686",
   "metadata": {},
   "source": [
    "### 3.1 Circuit Visualization\n",
    "View the quantum circuits used in this classifier."
   ]
  },
  {
   "cell_type": "code",
   "execution_count": null,
   "id": "e1e773d4",
   "metadata": {},
   "outputs": [
    {
     "data": {
      "text/plain": [
       "<Figure size 1200x400 with 0 Axes>"
      ]
     },
     "metadata": {},
     "output_type": "display_data"
    },
    {
     "data": {
      "text/plain": [
       "<Figure size 1200x400 with 0 Axes>"
      ]
     },
     "metadata": {},
     "output_type": "display_data"
    },
    {
     "data": {
      "text/plain": [
       "<Figure size 1200x400 with 0 Axes>"
      ]
     },
     "metadata": {},
     "output_type": "display_data"
    }
   ],
   "source": [
    "# Print circuits in text mode first to ensure visualization\n",
    "print(\"Feature Map Circuit:\")\n",
    "print(feature_map)\n",
    "print(\"\\nAnsatz Circuit:\")\n",
    "print(ansatz)\n",
    "print(\"\\nComplete PQC:\")\n",
    "print(pqc)\n",
    "\n",
    "# Now try to draw them using matplotlib\n",
    "import matplotlib.pyplot as plt\n",
    "from qiskit.visualization import circuit_drawer\n",
    "\n",
    "try:\n",
    "    # Feature Map Circuit\n",
    "    plt.figure(figsize=(12, 4))\n",
    "    feature_map.draw(output='mpl')\n",
    "    plt.title('Feature Map Circuit')\n",
    "    plt.show()\n",
    "\n",
    "    # Ansatz Circuit\n",
    "    plt.figure(figsize=(12, 4))\n",
    "    ansatz.draw(output='mpl')\n",
    "    plt.title('Ansatz Circuit (Trainable Part)')\n",
    "    plt.show()\n",
    "\n",
    "    # Complete PQC\n",
    "    plt.figure(figsize=(15, 5))\n",
    "    pqc.draw(output='mpl')\n",
    "    plt.title('Complete Parameterized Quantum Circuit (PQC)')\n",
    "    plt.show()\n",
    "except Exception as e:\n",
    "    print(f\"Graphical visualization failed: {e}\")\n",
    "    print(\"Using text visualization only.\")"
   ]
  },
  {
   "cell_type": "markdown",
   "id": "4f5f88e0",
   "metadata": {},
   "source": [
    "## 4. Quantum Output and Cost Function"
   ]
  },
  {
   "cell_type": "code",
   "execution_count": 44,
   "id": "0d8929a1",
   "metadata": {},
   "outputs": [],
   "source": [
    "estimator = Estimator()\n",
    "\n",
    "def get_quantum_output(data_point, parameters):\n",
    "    \"\"\"Executes the PQC and returns the expectation value of Z on the first qubit.\"\"\"\n",
    "    # Bind data to feature map parameters\n",
    "    param_dict_fm = {fm_param: dp_val for fm_param, dp_val in zip(feature_map.parameters, data_point)}\n",
    "    param_dict_ansatz = {ans_param: p_val for ans_param, p_val in zip(ansatz.parameters, parameters)}\n",
    "    \n",
    "    final_qc = pqc.assign_parameters({**param_dict_fm, **param_dict_ansatz})\n",
    "    \n",
    "    # Define the observable\n",
    "    observable_str = \"Z\" + \"I\" * (num_features - 1)\n",
    "    from qiskit.quantum_info import SparsePauliOp\n",
    "    observable = SparsePauliOp(observable_str)\n",
    "    \n",
    "    # Calculate expectation value\n",
    "    job = estimator.run([final_qc], [observable])\n",
    "    result = job.result()\n",
    "    expectation_value = result.values[0]\n",
    "    \n",
    "    return (expectation_value + 1) / 2.0\n",
    "\n",
    "def cost_function(parameters):\n",
    "    \"\"\"Calculates the Mean Squared Error between predictions and true labels.\"\"\"\n",
    "    predictions = [get_quantum_output(x, parameters) for x in X_train]\n",
    "    cost = np.mean((y_train - predictions) ** 2)\n",
    "    if cost_function.iter % 10 == 0:\n",
    "        print(f\"Iteration {cost_function.iter}, Cost: {cost:.4f}\")\n",
    "    cost_function.iter += 1\n",
    "    return cost\n",
    "\n",
    "cost_function.iter = 0"
   ]
  },
  {
   "cell_type": "markdown",
   "id": "b06a4e3b",
   "metadata": {},
   "source": [
    "## 5. Training"
   ]
  },
  {
   "cell_type": "code",
   "execution_count": 45,
   "id": "8f204bf9",
   "metadata": {},
   "outputs": [
    {
     "name": "stdout",
     "output_type": "stream",
     "text": [
      "Starting training...\n",
      "Iteration 0, Cost: 0.3047\n",
      "Iteration 10, Cost: 0.2680\n",
      "Iteration 10, Cost: 0.2680\n",
      "Iteration 20, Cost: 0.2207\n",
      "Iteration 20, Cost: 0.2207\n",
      "Iteration 30, Cost: 0.2138\n",
      "Iteration 30, Cost: 0.2138\n",
      "Iteration 40, Cost: 0.2111\n",
      "Iteration 40, Cost: 0.2111\n",
      "Iteration 50, Cost: 0.2091\n",
      "Iteration 50, Cost: 0.2091\n",
      "Iteration 60, Cost: 0.2065\n",
      "Iteration 60, Cost: 0.2065\n",
      "Iteration 70, Cost: 0.2050\n",
      "Iteration 70, Cost: 0.2050\n",
      "Iteration 80, Cost: 0.2040\n",
      "Iteration 80, Cost: 0.2040\n",
      "Iteration 90, Cost: 0.2033\n",
      "Iteration 90, Cost: 0.2033\n",
      "Training complete.\n",
      "Optimized Parameters: [ 0.84722524  0.84970567 -0.98023731  1.2061315  -0.55152138  0.59036674\n",
      "  0.74531147  0.17253754]\n",
      "Final cost: 0.2033\n",
      "Training complete.\n",
      "Optimized Parameters: [ 0.84722524  0.84970567 -0.98023731  1.2061315  -0.55152138  0.59036674\n",
      "  0.74531147  0.17253754]\n",
      "Final cost: 0.2033\n"
     ]
    }
   ],
   "source": [
    "# Initialize and optimize\n",
    "initial_parameters = np.random.random(ansatz.num_parameters)\n",
    "optimizer = COBYLA(maxiter=100)\n",
    "\n",
    "print(\"Starting training...\")\n",
    "opt_result = optimizer.minimize(fun=cost_function, x0=initial_parameters)\n",
    "\n",
    "optimized_parameters = opt_result.x\n",
    "print(\"Training complete.\")\n",
    "print(f\"Optimized Parameters: {optimized_parameters}\")\n",
    "print(f\"Final cost: {opt_result.fun:.4f}\")"
   ]
  },
  {
   "cell_type": "markdown",
   "id": "bdb805e0",
   "metadata": {},
   "source": [
    "## 6. Evaluation"
   ]
  },
  {
   "cell_type": "code",
   "execution_count": 46,
   "id": "68e97bdc",
   "metadata": {},
   "outputs": [
    {
     "name": "stdout",
     "output_type": "stream",
     "text": [
      "Test Accuracy: 73.33%\n",
      "Train Accuracy: 72.86%\n",
      "\n",
      "F1 Score:\n",
      "Test F1 Score: 0.7778\n",
      "Train F1 Score: 0.7246\n",
      "\n",
      "Confusion Matrix Analysis:\n",
      "Test Set:\n",
      "True Negatives: 8\n",
      "False Positives: 3\n",
      "False Negatives: 5\n",
      "True Positives: 14\n",
      "\n",
      "Training Set:\n",
      "True Negatives: 26\n",
      "False Positives: 13\n",
      "False Negatives: 6\n",
      "True Positives: 25\n"
     ]
    },
    {
     "name": "stderr",
     "output_type": "stream",
     "text": [
      "/var/folders/8p/70b8yhz146573dssy2g3rj100000gn/T/ipykernel_21638/3125216841.py:47: UserWarning: Matplotlib is currently using agg, which is a non-GUI backend, so cannot show the figure.\n",
      "  plt.show()\n"
     ]
    }
   ],
   "source": [
    "def predict(data, parameters):\n",
    "    \"\"\"Makes predictions for a given dataset using the trained parameters.\"\"\"\n",
    "    quantum_outputs = [get_quantum_output(x, parameters) for x in data]\n",
    "    return (np.array(quantum_outputs) > 0.5).astype(int)\n",
    "\n",
    "# Evaluate on test and training sets\n",
    "y_pred_test = predict(X_test, optimized_parameters)\n",
    "y_pred_train = predict(X_train, optimized_parameters)\n",
    "\n",
    "# Calculate accuracies\n",
    "accuracy = np.mean(y_pred_test == y_test)\n",
    "train_accuracy = np.mean(y_pred_train == y_train)\n",
    "\n",
    "print(f\"Test Accuracy: {accuracy * 100:.2f}%\")\n",
    "print(f\"Train Accuracy: {train_accuracy * 100:.2f}%\")\n",
    "\n",
    "# Calculate metrics\n",
    "from sklearn.metrics import confusion_matrix, ConfusionMatrixDisplay, f1_score\n",
    "import matplotlib.pyplot as plt\n",
    "\n",
    "# Calculate F1 scores\n",
    "f1_test = f1_score(y_test, y_pred_test)\n",
    "f1_train = f1_score(y_train, y_pred_train)\n",
    "\n",
    "print(f\"\\nF1 Score:\")\n",
    "print(f\"Test F1 Score: {f1_test:.4f}\")\n",
    "print(f\"Train F1 Score: {f1_train:.4f}\")\n",
    "\n",
    "# Calculate confusion matrices\n",
    "cm_test = confusion_matrix(y_test, y_pred_test)\n",
    "cm_train = confusion_matrix(y_train, y_pred_train)\n",
    "\n",
    "# Plot confusion matrices\n",
    "fig, (ax1, ax2) = plt.subplots(1, 2, figsize=(12, 5))\n",
    "\n",
    "# Plot test set confusion matrix\n",
    "disp_test = ConfusionMatrixDisplay(confusion_matrix=cm_test, display_labels=['Class 0', 'Class 1'])\n",
    "disp_test.plot(ax=ax1, cmap='Blues')\n",
    "ax1.set_title('Test Set Confusion Matrix')\n",
    "\n",
    "# Plot training set confusion matrix\n",
    "disp_train = ConfusionMatrixDisplay(confusion_matrix=cm_train, display_labels=['Class 0', 'Class 1'])\n",
    "disp_train.plot(ax=ax2, cmap='Blues')\n",
    "ax2.set_title('Training Set Confusion Matrix')\n",
    "\n",
    "plt.tight_layout()\n",
    "plt.show()\n",
    "\n",
    "# Print detailed metrics\n",
    "print(\"\\nConfusion Matrix Analysis:\")\n",
    "print(\"Test Set:\")\n",
    "print(f\"True Negatives: {cm_test[0,0]}\")\n",
    "print(f\"False Positives: {cm_test[0,1]}\")\n",
    "print(f\"False Negatives: {cm_test[1,0]}\")\n",
    "print(f\"True Positives: {cm_test[1,1]}\")\n",
    "\n",
    "print(\"\\nTraining Set:\")\n",
    "print(f\"True Negatives: {cm_train[0,0]}\")\n",
    "print(f\"False Positives: {cm_train[0,1]}\")\n",
    "print(f\"False Negatives: {cm_train[1,0]}\")\n",
    "print(f\"True Positives: {cm_train[1,1]}\")"
   ]
  },
  {
   "cell_type": "markdown",
   "id": "a71bdf82",
   "metadata": {},
   "source": [
    "## 7. Visualization of Results"
   ]
  },
  {
   "cell_type": "code",
   "execution_count": null,
   "id": "7cec4f19",
   "metadata": {},
   "outputs": [
    {
     "name": "stdout",
     "output_type": "stream",
     "text": [
      "\n",
      "Attempting to plot decision boundary...\n"
     ]
    }
   ],
   "source": [
    "try:\n",
    "    import matplotlib.pyplot as plt\n",
    "    from matplotlib.colors import ListedColormap\n",
    "    \n",
    "    print(\"\\nAttempting to plot decision boundary...\")\n",
    "    \n",
    "    # Create mesh for plotting\n",
    "    h = .02\n",
    "    x_min, x_max = X_scaled[:, 0].min() - .5, X_scaled[:, 0].max() + .5\n",
    "    y_min, y_max = X_scaled[:, 1].min() - .5, X_scaled[:, 1].max() + .5\n",
    "    xx, yy = np.meshgrid(np.arange(x_min, x_max, h),\n",
    "                         np.arange(y_min, y_max, h))\n",
    "    \n",
    "    # Generate predictions\n",
    "    mesh_data = np.c_[xx.ravel(), yy.ravel()]\n",
    "    Z = predict(mesh_data, optimized_parameters)\n",
    "    Z = Z.reshape(xx.shape)\n",
    "    \n",
    "    # Create plot\n",
    "    cm_bright = ListedColormap(['#FF0000', '#0000FF'])\n",
    "    plt.figure(figsize=(8, 6))\n",
    "    plt.contourf(xx, yy, Z, cmap=cm_bright, alpha=0.6)\n",
    "    \n",
    "    plt.scatter(X_train[:, 0], X_train[:, 1], c=y_train, cmap=cm_bright, edgecolors='k')\n",
    "    plt.scatter(X_test[:, 0], X_test[:, 1], c=y_test, cmap=cm_bright,\n",
    "                edgecolors='k', alpha=0.6, marker='^')\n",
    "    \n",
    "    plt.xlim(xx.min(), xx.max())\n",
    "    plt.ylim(yy.min(), yy.max())\n",
    "    plt.title(f\"Quantum Binary Classifier (Test Acc: {accuracy*100:.2f}%)\")\n",
    "    plt.xlabel(\"Feature 1 (scaled)\")\n",
    "    plt.ylabel(\"Feature 2 (scaled)\")\n",
    "    plt.show()\n",
    "except ImportError:\n",
    "    print(\"Matplotlib not found. Skipping decision boundary plot.\")\n",
    "except Exception as e:\n",
    "    print(f\"Error during plotting: {e}. Skipping decision boundary plot.\")"
   ]
  }
 ],
 "metadata": {
  "kernelspec": {
   "display_name": "Python 3",
   "language": "python",
   "name": "python3"
  },
  "language_info": {
   "codemirror_mode": {
    "name": "ipython",
    "version": 3
   },
   "file_extension": ".py",
   "mimetype": "text/x-python",
   "name": "python",
   "nbconvert_exporter": "python",
   "pygments_lexer": "ipython3",
   "version": "3.11.4"
  }
 },
 "nbformat": 4,
 "nbformat_minor": 5
}
